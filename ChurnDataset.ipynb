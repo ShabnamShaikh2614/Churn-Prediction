{
  "nbformat": 4,
  "nbformat_minor": 0,
  "metadata": {
    "colab": {
      "provenance": [],
      "authorship_tag": "ABX9TyOQIAJ5A6rVULuTfeJwGVAC",
      "include_colab_link": true
    },
    "kernelspec": {
      "name": "python3",
      "display_name": "Python 3"
    },
    "language_info": {
      "name": "python"
    }
  },
  "cells": [
    {
      "cell_type": "markdown",
      "metadata": {
        "id": "view-in-github",
        "colab_type": "text"
      },
      "source": [
        "<a href=\"https://colab.research.google.com/github/ShabnamShaikh2614/Churn-Prediction/blob/main/ChurnDataset.ipynb\" target=\"_parent\"><img src=\"https://colab.research.google.com/assets/colab-badge.svg\" alt=\"Open In Colab\"/></a>"
      ]
    },
    {
      "cell_type": "code",
      "source": [
        "import pandas as pd\n",
        "import random\n",
        "\n",
        "# Generate synthetic customer data\n",
        "num_customers = 500\n",
        "data = []\n",
        "\n",
        "for i in range(1, num_customers + 1):\n",
        "    customer_id = f'CUST{i:03d}'\n",
        "    age = random.randint(18, 70)\n",
        "    gender = random.choice(['Male', 'Female', 'Other'])\n",
        "    subscription_type = random.choice(['Basic', 'Premium'])\n",
        "    tenure = random.randint(1, 60) # in months\n",
        "    average_monthly_usage = round(random.uniform(5, 200), 2) # e.g., GB or minutes\n",
        "    monthly_fee = round(random.uniform(10, 100), 2) # e.g., USD\n",
        "    payment_method = random.choice(['Card', 'UPI', 'Wallet'])\n",
        "    last_payment_successful = random.randint(0, 1)\n",
        "    customer_support_calls = random.randint(0, 5)\n",
        "    is_active_last_30_days = random.randint(0, 1)\n",
        "\n",
        "    # Simple logic for churn (can be more complex)\n",
        "    # Customers with short tenure, low usage, high calls, or inactive might be more likely to churn\n",
        "    churn = 0\n",
        "    if tenure < 12 and random.random() < 0.3:\n",
        "        churn = 1\n",
        "    elif customer_support_calls > 2 and random.random() < 0.4:\n",
        "        churn = 1\n",
        "    elif is_active_last_30_days == 0 and random.random() < 0.5:\n",
        "        churn = 1\n",
        "    elif average_monthly_usage < 20 and random.random() < 0.2:\n",
        "         churn = 1\n",
        "\n",
        "\n",
        "    data.append([\n",
        "        customer_id, age, gender, subscription_type, tenure,\n",
        "        average_monthly_usage, monthly_fee, payment_method,\n",
        "        last_payment_successful, customer_support_calls,\n",
        "        is_active_last_30_days, churn\n",
        "    ])\n",
        "\n",
        "# Create a pandas DataFrame\n",
        "df_customers = pd.DataFrame(data, columns=[\n",
        "    'CustomerID', 'Age', 'Gender', 'SubscriptionType', 'Tenure',\n",
        "    'AverageMonthlyUsage', 'MonthlyFee', 'PaymentMethod',\n",
        "    'LastPaymentSuccessful', 'CustomerSupportCalls',\n",
        "    'IsActiveLast30Days', 'Churn'\n",
        "])\n",
        "\n",
        "# Display the first few rows\n",
        "print(df_customers.head())\n",
        "\n",
        "# Optional: Save the dataset to a CSV file\n",
        "df_customers.to_csv('churndataset.csv', index=False)\n",
        "print(\"\\nCustomer churn dataset saved to churndata.csv\")"
      ],
      "metadata": {
        "colab": {
          "base_uri": "https://localhost:8080/"
        },
        "id": "YTRGskhcUa0d",
        "outputId": "503f28b7-ea7b-4f77-ee01-3d4b0180df27"
      },
      "execution_count": null,
      "outputs": [
        {
          "output_type": "stream",
          "name": "stdout",
          "text": [
            "  CustomerID  Age  Gender SubscriptionType  Tenure  AverageMonthlyUsage  \\\n",
            "0    CUST001   53   Other            Basic      32               119.10   \n",
            "1    CUST002   44  Female          Premium      47                 6.10   \n",
            "2    CUST003   35   Other          Premium      31               182.68   \n",
            "3    CUST004   68   Other            Basic      52               128.20   \n",
            "4    CUST005   57    Male          Premium      28                69.10   \n",
            "\n",
            "   MonthlyFee PaymentMethod  LastPaymentSuccessful  CustomerSupportCalls  \\\n",
            "0       73.26          Card                      0                     4   \n",
            "1       33.00          Card                      0                     2   \n",
            "2       16.00          Card                      1                     1   \n",
            "3       77.34           UPI                      0                     5   \n",
            "4       68.88        Wallet                      0                     1   \n",
            "\n",
            "   IsActiveLast30Days  Churn  \n",
            "0                   1      0  \n",
            "1                   1      0  \n",
            "2                   0      0  \n",
            "3                   0      1  \n",
            "4                   1      0  \n",
            "\n",
            "Customer churn dataset saved to churndata.csv\n"
          ]
        }
      ]
    }
  ]
}